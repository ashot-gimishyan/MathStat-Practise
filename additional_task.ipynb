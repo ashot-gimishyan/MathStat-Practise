{
  "cells": [
    {
      "cell_type": "markdown",
      "metadata": {
        "id": "ipfzlhjeM2pd"
      },
      "source": [
        "# Курс \"Практикум по математической статистике\"\n",
        "# 3 курс ФПМИ МФТИ, осень 2022\n",
        "## Линейная регрессия\n",
        "\n",
        "Мы предлагаем выполнять задания прямо в этом ноутбуке. Пожалуйста, не стирайте условия задач.\n",
        "\n",
        "Настоятельно рекомендуемая форма оформления домашних заданий — это Jupyter Notebook с:\n",
        "\n",
        "* условием задачи,\n",
        "* решением (если требуется некоторый теоретический вывод),\n",
        "* описанием плана решения, который потом реализуется в коде, \n",
        "* собственно кодом, \n",
        "* построенными графиками (если это требуется) и **выводом**, который как правило должен заключаться в объяснении практических результатов с использованием теоретических фактов. ***Вывод требуется даже в том случае, если в условии об этом явно не сказано!***\n",
        "* некоторыми другими вещами, если об этом будет указано в задании.\n",
        "\n",
        "Оценка за каждую задачу складывается из правильного выполнения всех этих пунктов. Закрывая на них глаза, вы сознательно понижаете свою оценку.\n",
        "\n",
        "Каждая задача оценивается **в 10 баллов**."
      ]
    },
    {
      "cell_type": "code",
      "execution_count": null,
      "metadata": {
        "id": "MeH8Ya6LD3ky",
        "vscode": {
          "languageId": "python"
        }
      },
      "outputs": [],
      "source": [
        "import numpy as np\n",
        "from scipy import stats as sps\n",
        "import seaborn as sns\n",
        "import matplotlib.pyplot as plt\n",
        "import pandas as pd\n",
        "\n",
        "from sklearn.base import BaseEstimator, RegressorMixin\n",
        "from sklearn.model_selection import train_test_split\n",
        "\n",
        "sns.set(font_scale=1.4, style='whitegrid')"
      ]
    },
    {
      "cell_type": "markdown",
      "metadata": {
        "id": "XegN1uMaN07Y"
      },
      "source": [
        "В учебных целях в данном задании запрещено использовать готовые реализации линейной регрессии (например, из пакета *scikit-learn*).\n",
        "\n",
        "Но вы все равно можете показать свои скиллы в машинке, анализе временных рядов или продвинутой визуализации. Нам будет интересно посмотреть. Задача глубже, чем кажется, и в ней можно придумать крутые хаки и графики. Ваша инициатива и любые дополнения к обязательной части задачи пойдут будут только плюсом (может даже не только в карму). Включите своего внутреннего аналитика, удачи!"
      ]
    },
    {
      "cell_type": "markdown",
      "metadata": {
        "id": "4TVKHP_j2oZY"
      },
      "source": [
        "# Линейная регрессионная модель"
      ]
    },
    {
      "cell_type": "markdown",
      "metadata": {
        "id": "J64X_EiwZeA2"
      },
      "source": [
        "Для начала реализуем класс, описывающий гауссовскую линейную модель. Этот класс будет использоваться в решении обоих задач."
      ]
    },
    {
      "cell_type": "code",
      "execution_count": null,
      "metadata": {
        "id": "zff7_h_H8j5L",
        "vscode": {
          "languageId": "python"
        }
      },
      "outputs": [],
      "source": [
        "from sklea\n",
        "\n",
        "\n",
        "class LinearModel:\n",
        "    '''\n",
        "        Класс линейной модели, реализующий\n",
        "        построение, предсказание и вычисление \n",
        "        среднеквадратичной ошибки\n",
        "    '''\n",
        "    def fit(self, Z, X):\n",
        "        '''\n",
        "            Построение модели с помощью МНК\n",
        "            Z - матрица признаков\n",
        "            X - вектор предсказываемой переменной\n",
        "        '''\n",
        "        self.theta = #YOUR CODE GOES HERE\n",
        "        return self\n",
        "        \n",
        "    def predict(self, Z):\n",
        "        '''\n",
        "            Прогноз зачений зависимой переменной\n",
        "            на основе матрицы признаков Z\n",
        "        '''\n",
        "        return #YOUR CODE GOES HERE\n",
        "    \n",
        "    def mse(self, Z, X):\n",
        "        '''\n",
        "            Вычисление среднеквадратичной ошибки\n",
        "            для матрицы Z и заданного вектора\n",
        "            ответов X\n",
        "        '''\n",
        "        return #YOUR CODE GOES HERE"
      ]
    },
    {
      "cell_type": "markdown",
      "metadata": {
        "id": "YDQzXcW89mxk"
      },
      "source": [
        "# Задача 1"
      ]
    },
    {
      "cell_type": "markdown",
      "metadata": {
        "id": "Mi6Z8LmA3Y5M"
      },
      "source": [
        "Загрузите данные из набора *Forest Fires* (файл *forestfires.csv*) о лесных пожарах в Португалии. Задача состоит в том, чтобы с помощью линейной регрессии научиться предсказывать координату *area* (площадь пожара) в виде линейной комбинации других данных.\n",
        "\n",
        "Чтобы работать с числовыми координатами, нечисловые координаты (*month, day*) нужно перевести в числовые. Для простоты можно заменить координату *month* на индикатор летнего сезона, а координату *day* не использовать вообще. По желанию можно сделать преобразование другим способом. Также добавьте координату, тождественно равную единице (вес при этой координате  интерпретируется как сдвиг).\n",
        "\n",
        "Разбейте выборку на две части в соотношении *7:3* (перемешав её с помощью *random.shuffle*). По первой части постройте регрессионную модель. Примените модель ко второй части выборки и посчитайте по ней среднеквадратичную ошибку.\n",
        "\n",
        "Для переменной *area* выполните преобразование $f(x) = ln(x+c)$ и постройте для нее новую регрессионную модель. Посчитайте среднеквадратичную ошибку для преобразованных значений. При каком $c$ предсказания получаются лучше всего? \n",
        "\n",
        "При выбранном $c$ сделайте разбиение выборки в соотношении 7:3 разными способами (перемешивая каждый раз). Найдите способ оценить разброс качества от разбиения. Сильно ли меняется качество? Сделайте выводы."
      ]
    },
    {
      "cell_type": "markdown",
      "metadata": {
        "id": "hgR9MJc7Z1cK"
      },
      "source": [
        "## Решение"
      ]
    },
    {
      "cell_type": "markdown",
      "metadata": {
        "id": "YZmV8hC3Z5Jy"
      },
      "source": [
        "Загрузим датасет. Подробнее с ним можно ознакомиться [тут](https://www.kaggle.com/elikplim/forest-fires-data-set)."
      ]
    },
    {
      "cell_type": "code",
      "execution_count": null,
      "metadata": {
        "id": "DpXMHlah2n_T",
        "vscode": {
          "languageId": "python"
        }
      },
      "outputs": [],
      "source": [
        "!pip install -q gdown\n",
        "!wget https://archive.ics.uci.edu/ml/machine-learning-databases/forest-fires/forestfires.csv"
      ]
    },
    {
      "cell_type": "code",
      "execution_count": null,
      "metadata": {
        "id": "Dqv3PXx3-o2U",
        "vscode": {
          "languageId": "python"
        }
      },
      "outputs": [],
      "source": [
        "df = pd.read_csv(\"forestfires.csv\")"
      ]
    },
    {
      "cell_type": "markdown",
      "metadata": {
        "id": "QRiavhZt9z4h"
      },
      "source": [
        "#### 1. Подготовка данных"
      ]
    },
    {
      "cell_type": "markdown",
      "metadata": {
        "id": "9Pq_Pc2pamIj"
      },
      "source": [
        "Разделим выборку на матрицу признаков $Z$ и вектор со значениями предсказываемой переменной $X$. \n",
        "\n",
        "Чтобы работать с числовыми координатами, нечисловые координаты (*month, day*) нужно перевести в числовые. Для простоты можно заменить координату *month* на индикатор летнего сезона, а координату *day* не использовать вообще. По желанию можно сделать преобразование другим способом. Также добавьте координату, тождественно равную единице (вес при этой координате  интерпретируется как сдвиг)."
      ]
    },
    {
      "cell_type": "code",
      "execution_count": null,
      "metadata": {
        "id": "W3LwunD_-cUS",
        "vscode": {
          "languageId": "python"
        }
      },
      "outputs": [],
      "source": [
        "#YOUR CODE GOES HERE"
      ]
    },
    {
      "cell_type": "markdown",
      "metadata": {
        "id": "7fj7_Jv_Jyyh"
      },
      "source": [
        "Составим новую матрицу Z, объединив преобразованный столбец категоримальной переменной, числовые переменные и добавим столбец из единиц, как сказано в условии. С помощью функции ```traint_test_split``` разобьём выборку в соотношении 7:3 на две части."
      ]
    },
    {
      "cell_type": "code",
      "execution_count": null,
      "metadata": {
        "id": "Nb9Iiv0eAkE2",
        "vscode": {
          "languageId": "python"
        }
      },
      "outputs": [],
      "source": [
        "from sklearn.model_selection import train_test_split"
      ]
    },
    {
      "cell_type": "code",
      "execution_count": null,
      "metadata": {
        "id": "843SnZOt-cbJ",
        "vscode": {
          "languageId": "python"
        }
      },
      "outputs": [],
      "source": [
        "#YOUR CODE GOES HERE"
      ]
    },
    {
      "cell_type": "markdown",
      "metadata": {
        "id": "NFWHwzoy9-MK"
      },
      "source": [
        "#### 2. Регрессионная модель"
      ]
    },
    {
      "cell_type": "markdown",
      "metadata": {
        "id": "9Jn5ZkSDEaaB"
      },
      "source": [
        "Постройте регрессионную модель по первой части выборки. Определите значение вектора параметров. По второй части оцените качество модели с помощью MSE."
      ]
    },
    {
      "cell_type": "code",
      "execution_count": null,
      "metadata": {
        "id": "om83cohIFXHs",
        "vscode": {
          "languageId": "python"
        }
      },
      "outputs": [],
      "source": [
        "estimator = LinearModel()\n",
        "\n",
        "#YOUR CODE GOES HERE"
      ]
    },
    {
      "cell_type": "markdown",
      "metadata": {
        "id": "1HbbaZbQ-Fgr"
      },
      "source": [
        "#### 3. Преобразование $\\ln (x+c)$"
      ]
    },
    {
      "cell_type": "markdown",
      "metadata": {
        "id": "veK2-UlQJ-0Z"
      },
      "source": [
        "Сделаем преобразование предсказываемой переменной по условию. Это требуется для того чтобы линеризовать таргет, изначально зависимость была степенной. Определим функцию, которая будет зависеть от $c$ и для заранее заданных матрицы признаков и вектора ответов строить регрессионную модель и вычислять значение среднеквадратичной ошибки. Воспользуемся функцией ```minimize_scalar``` из ```scipy.optimization``` чтобы найти минимум этой функции."
      ]
    },
    {
      "cell_type": "code",
      "execution_count": null,
      "metadata": {
        "id": "sg9hAGqTF3TJ",
        "vscode": {
          "languageId": "python"
        }
      },
      "outputs": [],
      "source": [
        "def min_mse_trampline(Z, X):\n",
        "    def test_mse(c):\n",
        "        estimator = LinearModel()\n",
        "        X_c = np.log(X + c)\n",
        "        estimator.fit(Z, X_c)\n",
        "        return estimator.mse(Z, X_c)\n",
        "    return test_mse"
      ]
    },
    {
      "cell_type": "code",
      "execution_count": null,
      "metadata": {
        "id": "DlxtTOVnIhvf",
        "vscode": {
          "languageId": "python"
        }
      },
      "outputs": [],
      "source": [
        "test_mse = min_mse_trampline(Z, X)\n",
        "min_res = minimize_scalar(test_mse, bounds=(1, np.inf))\n",
        "\n",
        "optimal_c = #YOUR CODE GOES HERE\n",
        "min_mse = #YOUR CODE GOES HERE\n",
        "print(\"Оптимальное значение параметра c равно\", optimal_c)\n",
        "print(\"При нём среднеквадратичная ошибка равна\", min_mse)"
      ]
    },
    {
      "cell_type": "markdown",
      "metadata": {
        "id": "Bi-a5s_j-XBo"
      },
      "source": [
        "Осмысленным ли получилось оптимальное значение параметра $c$? Если нет, напишите почему и предложите способ решения пробелмы. Посчитайте новое значение параметра $c$, после изменений."
      ]
    },
    {
      "cell_type": "markdown",
      "metadata": {
        "id": "O_b-Z3KqKBpv"
      },
      "source": [
        "Ваше объяснение:"
      ]
    },
    {
      "cell_type": "code",
      "execution_count": null,
      "metadata": {
        "id": "hy5mmObvIpH0",
        "vscode": {
          "languageId": "python"
        }
      },
      "outputs": [],
      "source": [
        "#YOUR CODE GOES HERE"
      ]
    },
    {
      "cell_type": "markdown",
      "metadata": {
        "id": "gqonVBl-OpbC"
      },
      "source": [
        "Оптимальное значение параметра $c$:"
      ]
    },
    {
      "cell_type": "markdown",
      "metadata": {
        "id": "HRvbgwtnDZQJ"
      },
      "source": [
        "### 4. График ошибки"
      ]
    },
    {
      "cell_type": "markdown",
      "metadata": {
        "id": "HTM88Wt6KGIU"
      },
      "source": [
        "Построим график ошибки, чтобы визуально убедиться, что функция ```test_mse``` действительно имеет минимум."
      ]
    },
    {
      "cell_type": "code",
      "execution_count": null,
      "metadata": {
        "id": "XItmhhcmIqxI",
        "vscode": {
          "languageId": "python"
        }
      },
      "outputs": [],
      "source": [
        "#YOUR CODE GOES HERE"
      ]
    },
    {
      "cell_type": "markdown",
      "metadata": {
        "id": "NadZj4wGDgl5"
      },
      "source": [
        "### 5. Разброс среднеквадратичной ошибки в зависимости от разбиения выборки."
      ]
    },
    {
      "cell_type": "markdown",
      "metadata": {
        "id": "qX7-9HdfE8Gm"
      },
      "source": [
        "Оцените разброс среднеквадратичной ошибки в зависимости от разбиения выборки."
      ]
    },
    {
      "cell_type": "code",
      "execution_count": null,
      "metadata": {
        "id": "OYMEEPuoIvkt",
        "vscode": {
          "languageId": "python"
        }
      },
      "outputs": [],
      "source": [
        "#YOUR CODE GOES HERE"
      ]
    },
    {
      "cell_type": "markdown",
      "metadata": {
        "id": "4S6pj8STRDhU"
      },
      "source": [
        "Построим гистограмму полученной выборки ошибок."
      ]
    },
    {
      "cell_type": "code",
      "execution_count": null,
      "metadata": {
        "id": "vJr2EovFO25m",
        "vscode": {
          "languageId": "python"
        }
      },
      "outputs": [],
      "source": [
        "#YOUR CODE GOES HERE"
      ]
    },
    {
      "cell_type": "markdown",
      "metadata": {
        "id": "pIseu9ULQzg4"
      },
      "source": [
        "Вывод по гистограмме:"
      ]
    },
    {
      "cell_type": "markdown",
      "metadata": {
        "id": "gWSpVwYMQ6ZH"
      },
      "source": [
        "## Вывод:\n"
      ]
    },
    {
      "cell_type": "markdown",
      "metadata": {
        "id": "oeP45bkgTivK"
      },
      "source": [
        "# Задача 2"
      ]
    },
    {
      "cell_type": "markdown",
      "metadata": {
        "id": "6b-UUsBsRLPb"
      },
      "source": [
        "На полигоне испытывается новая модель трамвая. В одном из испытании работы двигателя проверяется, что движение трамвая равномерно. Для проведения теста на трамвай установлен датчик, посекундно измеряющий пройденное расстояние. \n",
        "\n",
        "Записи датчика можно описать такой моделью:\n",
        "\n",
        " $$X_i = \\beta_1+i\\beta_2+\\varepsilon_0+\\ldots+\\varepsilon_i,\\, i= 0, 1, \\ldots, n$$ \n",
        " \n",
        "где $X_i$ --- расстояние, которое проехал трамвай за $i$ секунд. В модели $\\beta_1$ --- начальное расстояние, $\\beta_2$ --- скорость трамвая, $\\varepsilon_0$ --- ошибка начального показания датчика. Отсчет времени идет от предыдущего замера, причем отсчет происходит с ошибкой. Для $i = 1, \\ldots, n$ величина $\\varepsilon_i$ есть ошибка приращения расстояния, то есть $\\varepsilon_i = \\varepsilon_i^t \\beta_2,$ где $\\varepsilon_i^t$ --- ошибка отсчета времени. Все ошибки $\\varepsilon_i$ независимы и распределены по закону $N(0, \\sigma^2)$. \n",
        "\n",
        "Сведите задачу к линейной модели и найдите оценки наименьших квадратов для начального расстояния $\\beta_1$ и скорости $\\beta_2,$ а также несмещенную оценку для $\\sigma^2,$ из которой выразите оценку дисперсии отсчета времени. \n",
        "\n",
        "Данные возьмите из файла Regression.csv. Сделайте выводы."
      ]
    },
    {
      "cell_type": "markdown",
      "metadata": {
        "id": "xpOkSJAw6npb"
      },
      "source": [
        "## Решение"
      ]
    },
    {
      "cell_type": "markdown",
      "metadata": {
        "id": "c1N6UqsdA9wy"
      },
      "source": [
        "Загрузим датасет, содержащий показания датчика."
      ]
    },
    {
      "cell_type": "code",
      "execution_count": null,
      "metadata": {
        "id": "7b_G0bX4Ry4E",
        "vscode": {
          "languageId": "python"
        }
      },
      "outputs": [],
      "source": [
        "!pip install -q gdown\n",
        "!gdown https://drive.google.com/uc?id=1gmSof1yxWt009QoBiKjwkLMlcpn3r61W"
      ]
    },
    {
      "cell_type": "code",
      "execution_count": null,
      "metadata": {
        "id": "7c6ZSIgGR19E",
        "vscode": {
          "languageId": "python"
        }
      },
      "outputs": [],
      "source": [
        "X = np.genfromtxt('regression.csv')\n",
        "print('Размер датасета:', X.shape)\n",
        "print('Средняя скорость:', X[-1] / X.shape[0])"
      ]
    },
    {
      "cell_type": "markdown",
      "metadata": {
        "id": "DhoWIj31BGqG"
      },
      "source": [
        "Датасет состоит из 1000 измерений. По смыслу средняя скорость имеет размерность метры в секунду."
      ]
    },
    {
      "cell_type": "markdown",
      "metadata": {
        "id": "EJQA6hg2_Wz_"
      },
      "source": [
        "Построим график показаний датчика:"
      ]
    },
    {
      "cell_type": "code",
      "execution_count": null,
      "metadata": {
        "id": "6HdfrUsC6ltu",
        "vscode": {
          "languageId": "python"
        }
      },
      "outputs": [],
      "source": [
        "#YOUR CODE GOES HERE"
      ]
    },
    {
      "cell_type": "markdown",
      "metadata": {
        "id": "gMyCwoxN7jHn"
      },
      "source": [
        "#### 1. Сведем задачу к гауссовской линейной модели"
      ]
    },
    {
      "cell_type": "markdown",
      "metadata": {
        "id": "GlXPWVzrGiyd"
      },
      "source": [
        "Каким образом свести изначальную задачу к гауссовской линейной модели? Останется ли распредление вектора ошибок тем же? Новый вектор наблюдений назовите $Y$."
      ]
    },
    {
      "cell_type": "code",
      "execution_count": null,
      "metadata": {
        "id": "1rEUNQGoRREp",
        "vscode": {
          "languageId": "python"
        }
      },
      "outputs": [],
      "source": [
        "Y = #YOUR CODE GOES HERE"
      ]
    },
    {
      "cell_type": "markdown",
      "metadata": {
        "id": "XYHS8bno7tFC"
      },
      "source": [
        "#### 2. Требования к гауссовской линейной модели"
      ]
    },
    {
      "cell_type": "markdown",
      "metadata": {
        "id": "bZndu0Hi73zm"
      },
      "source": [
        "Напомним, что в гауссовской линейной модели наблюдение -- вектор $X \\in \\mathbb{R}^n$, представимо в виде $X = l + \\varepsilon$, где $l$ --- неизвестный случайный вектор (измеряемая величина), $\\varepsilon$ --- случайный вектор (ошибка измерения), имеющий распредление $\\mathcal{N}(\\vec{0}, \\sigma^2 I)$. То есть среднее значение ошибки измерения должно быть равно нулю и в нашей модели для всех измерений ошибки должны иметь одинаковую дисперсию (гомоскедастичность)."
      ]
    },
    {
      "cell_type": "markdown",
      "metadata": {
        "id": "UUO1P7gC8MlE"
      },
      "source": [
        "Проверим, что дисперсия ошибки не меняется со временем."
      ]
    },
    {
      "cell_type": "code",
      "execution_count": null,
      "metadata": {
        "id": "r91j_BeV9Uc9",
        "vscode": {
          "languageId": "python"
        }
      },
      "outputs": [],
      "source": [
        "#YOUR CODE GOES HERE"
      ]
    },
    {
      "cell_type": "markdown",
      "metadata": {
        "id": "y1K10aPo9zWE"
      },
      "source": [
        "Проверим, что ошибка имеет нормальное распределение. Для этого сравним распредление ошибок и теоретическое нормальное распредление с помощбю графика QQ-plot:"
      ]
    },
    {
      "cell_type": "code",
      "execution_count": null,
      "metadata": {
        "id": "iv9CMj3f96-r",
        "vscode": {
          "languageId": "python"
        }
      },
      "outputs": [],
      "source": [
        "#YOUR CODE GOES HERE"
      ]
    },
    {
      "cell_type": "markdown",
      "metadata": {
        "id": "LhgtMqam_wGR"
      },
      "source": [
        "Для проверки нормальности воспользуемся  [критерием Шапиро-Уилка](https://docs.scipy.org/doc/scipy/reference/generated/scipy.stats.shapiro.html). На практике этот метод обычно является самым мощным критерием для проверки нормальности."
      ]
    },
    {
      "cell_type": "code",
      "execution_count": null,
      "metadata": {
        "id": "MEOECqxk_0Dv",
        "vscode": {
          "languageId": "python"
        }
      },
      "outputs": [],
      "source": [
        "from scipy.stats import shapiro"
      ]
    },
    {
      "cell_type": "markdown",
      "metadata": {
        "id": "mjPZGZ9Z_0fw"
      },
      "source": [
        "Найдем значение статистики и уровень значимости (p-value) критерия. Напишите вывод."
      ]
    },
    {
      "cell_type": "code",
      "execution_count": null,
      "metadata": {
        "id": "ztrNoqhC_5wv",
        "vscode": {
          "languageId": "python"
        }
      },
      "outputs": [],
      "source": [
        "#YOUR CODE GOES HERE"
      ]
    },
    {
      "cell_type": "markdown",
      "metadata": {
        "id": "Jh7RdtHk_6M7"
      },
      "source": [
        "Вывод по всей проверке требований модели:"
      ]
    },
    {
      "cell_type": "markdown",
      "metadata": {
        "id": "J0CqlUVD-POT"
      },
      "source": [
        "#### 3. Оценка параметров"
      ]
    },
    {
      "cell_type": "markdown",
      "metadata": {
        "id": "8S2GQdneFOzl"
      },
      "source": [
        "Воспользуйтесь реализованным в начале задания классом `LinearModel`. Как выглядит ваша матрица признаков $Z$? Какие значения параметров $\\beta_1$ и $\\beta_2$?"
      ]
    },
    {
      "cell_type": "code",
      "execution_count": null,
      "metadata": {
        "id": "yZFAETNTI60X",
        "vscode": {
          "languageId": "python"
        }
      },
      "outputs": [],
      "source": [
        "Z = #YOUR CODE GOES HERE"
      ]
    },
    {
      "cell_type": "code",
      "execution_count": null,
      "metadata": {
        "id": "8Zj6_-3qJD5M",
        "vscode": {
          "languageId": "python"
        }
      },
      "outputs": [],
      "source": [
        "estimator = LinearModel()\n",
        "\n",
        "#YOUR CODE GOES HERE"
      ]
    },
    {
      "cell_type": "markdown",
      "metadata": {
        "id": "V_eW__QOGhHw"
      },
      "source": [
        "Итого, получаем,  значения $\\beta_1$ и $\\beta_2$ -- начальное расстояние и скорость: \n",
        "$$\\beta_1 = $$\n",
        "$$\\beta_2 = $$\n"
      ]
    },
    {
      "cell_type": "markdown",
      "metadata": {
        "id": "IYy-8_Xh-1V6"
      },
      "source": [
        "#### 4. Оценка дисперсии ошибки показаний датчика."
      ]
    },
    {
      "cell_type": "markdown",
      "metadata": {
        "id": "vXVhvlhsF0pr"
      },
      "source": [
        "Найдите оценку дисперсии $\\sigma^2$ показаний датчика $\\varepsilon$. После того, как она найдена, найдите оценку дисперсии $\\sigma_t^2$ ошибки отсчёта времени $\\varepsilon^t$."
      ]
    },
    {
      "cell_type": "code",
      "execution_count": null,
      "metadata": {
        "id": "GWGgGrHaRW42",
        "vscode": {
          "languageId": "python"
        }
      },
      "outputs": [],
      "source": [
        "#YOUR CODE GOES HERE"
      ]
    },
    {
      "cell_type": "code",
      "execution_count": null,
      "metadata": {
        "id": "-yMC7mw0Raaq",
        "vscode": {
          "languageId": "python"
        }
      },
      "outputs": [],
      "source": [
        "#YOUR CODE GOES HERE"
      ]
    },
    {
      "cell_type": "markdown",
      "metadata": {
        "id": "u7_DMevLDHRt"
      },
      "source": [
        "#### 5. Измерим качество модели"
      ]
    },
    {
      "cell_type": "markdown",
      "metadata": {
        "id": "T4lrhGxvDLW7"
      },
      "source": [
        "В качестве метрики качества модели, эксперты предложили использовать [коэффициент детерминанции](https://ru.wikipedia.org/wiki/Коэффициент_детерминации). Он показывает какую долю дисперсии выборки объясняет линейная регрессия. В нашем случае, значение $R^2 > 0.98$ будет означать, что трамвай прошел испытание."
      ]
    },
    {
      "cell_type": "code",
      "execution_count": null,
      "metadata": {
        "id": "wsK73c4HEtK-",
        "vscode": {
          "languageId": "python"
        }
      },
      "outputs": [],
      "source": [
        "#YOUR CODE GOES HERE"
      ]
    },
    {
      "cell_type": "markdown",
      "metadata": {
        "id": "1r51yrK2GxIn"
      },
      "source": [
        "Ответ в задаче:\n",
        "\n",
        "$\\beta_1 =\\ \\ $ -- начальное расстояние,\n",
        "\n",
        "$\\beta_2 =\\ \\ $ -- скорость движения,\n",
        "\n",
        "$\\sigma^2 =\\ \\ $ -- дисперсия отсчета расстояния,\n",
        "\n",
        "$\\sigma_t^2 =\\ \\ $ -- дисперсия отсчета времени."
      ]
    },
    {
      "cell_type": "markdown",
      "metadata": {
        "id": "3fqf4ewIRf6e"
      },
      "source": [
        "## Вывод"
      ]
    }
  ],
  "metadata": {
    "colab": {
      "collapsed_sections": [],
      "provenance": [],
      "toc_visible": true
    },
    "kernelspec": {
      "display_name": "Python 3",
      "name": "python3"
    }
  },
  "nbformat": 4,
  "nbformat_minor": 0
}
