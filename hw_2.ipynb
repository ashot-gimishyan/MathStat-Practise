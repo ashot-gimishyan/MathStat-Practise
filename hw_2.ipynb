{
 "cells": [
  {
   "cell_type": "markdown",
   "metadata": {
    "id": "EHQon6kICsxP"
   },
   "source": [
    "# Курс \"Практикум по математической статистике\"\n",
    "# 3 курс ФПМИ МФТИ, осень 2022\n",
    "## Домашнее задание 2. Методы нахождения оценок\n",
    "\n",
    "Мы предлагаем выполнять задания прямо в этом ноутбуке. Пожалуйста, не стирайте условия задач.\n",
    "\n",
    "Настоятельно рекомендуемая форма оформления домашних заданий — это Jupyter Notebook c:\n",
    "\n",
    "* условием задачи,\n",
    "* решением (если требуется некоторый теоретический вывод),\n",
    "* описанием плана решения, который потом реализуется в коде, \n",
    "* собственно кодом, \n",
    "* построенными графиками (если это требуется) и **выводом**, который как правило должен заключаться в объяснении практических результатов с использованием теоретических фактов. ***Вывод требуется даже в том случае, если в условии об этом явно не сказано!***\n",
    "* некоторыми другими вещами, если об этом будет указано в задании.\n",
    "\n",
    "Оценка за каждую задачу складывается из правильного выполнения всех этих пунктов. Закрывая на них глаза, вы сознательно понижаете свою оценку.\n",
    "\n",
    "Каждая задача оценивается в 10 баллов, если не оговорено иного."
   ]
  },
  {
   "cell_type": "markdown",
   "metadata": {
    "id": "OpvLoS6Svhp5"
   },
   "source": [
    "Загрузим все необходимые датасеты. Если что-то пошло не так, то просто скачайте файлы по ссылке вручную."
   ]
  },
  {
   "cell_type": "code",
   "execution_count": 59,
   "metadata": {
    "colab": {
     "base_uri": "https://localhost:8080/"
    },
    "id": "_gdSaS5cUd7r",
    "outputId": "c589c90c-5028-47e3-9547-59174be35736"
   },
   "outputs": [
    {
     "name": "stdout",
     "output_type": "stream",
     "text": [
      "Downloading...\n",
      "From: https://drive.google.com/uc?id=1fMQ0H-_E4U25XHB2SH7ryoZPLG2MHlLQ\n",
      "To: /home/ashot/Documents/NOV/Учеба/mipt/Питон/HW/hw2/3.Основные_методы_нахождения_оценок/Cauchy.csv\n",
      "100%|███████████████████████████████████████| 18.7k/18.7k [00:00<00:00, 483kB/s]\n",
      "Downloading...\n",
      "From: https://drive.google.com/uc?id=1cJywRii7wBZa0B2uAvvu56JFCLPnlOSs\n",
      "To: /home/ashot/Documents/NOV/Учеба/mipt/Питон/HW/hw2/3.Основные_методы_нахождения_оценок/Weibull.csv\n",
      "100%|██████████████████████████████████████| 17.9k/17.9k [00:00<00:00, 18.9MB/s]\n"
     ]
    }
   ],
   "source": [
    "!pip install -q gdown\n",
    "!gdown https://drive.google.com/uc?id=1fMQ0H-_E4U25XHB2SH7ryoZPLG2MHlLQ\n",
    "!gdown https://drive.google.com/uc?id=1cJywRii7wBZa0B2uAvvu56JFCLPnlOSs"
   ]
  },
  {
   "cell_type": "code",
   "execution_count": 60,
   "metadata": {
    "id": "-gBMMLPW-Zbx"
   },
   "outputs": [],
   "source": [
    "import pandas as pd\n",
    "import numpy as np\n",
    "from scipy import stats as sps\n",
    "\n",
    "from matplotlib import pyplot as plt\n",
    "import seaborn as sns\n",
    "\n",
    "sns.set(style=\"darkgrid\", font_scale=1.4)"
   ]
  },
  {
   "cell_type": "markdown",
   "metadata": {
    "id": "BDuDaPpNsYbX"
   },
   "source": [
    "## Задача 1\n",
    "\n",
    "На высоте 1 метр от поверхности Земли закреплено устройство,\n",
    "которое периодически излучает лучи на поверхность Земли (считайте,\n",
    "что поверхность Земли представляет из себя прямую). Пусть $l$ —\n",
    "перпендикуляр к поверхности Земли, опущенный из точки, в которой\n",
    "закреплено устройство. Угол к прямой $l$ (под которым происходит\n",
    "излучение) устройство выбирает случайно из равномерного\n",
    "распределения на от\\-резке $\\left(-\\frac{\\pi}{2}, \\frac{\\pi}{2}\\right)$ (все выборы\n",
    "осуществляются независимо). В этих предположениях точки пересечения\n",
    "с поверхностью имеют распределение Коши с плотностью $p(x) =\n",
    "\\frac{1}{\\pi(1 + (x-x_0)^2)}.$ Неизвестный параметр сдвига $x_0$\n",
    "соответствует проекции точки расположения устройства на поверхность\n",
    "Земли (направление оси и начало координат на поверхности Земли\n",
    "выбраны заранее некоторым образом независимо от расположения\n",
    "устройства). В файле Cauchy.csv находятся координаты точек\n",
    "пересечения лучей с поверхностью Земли."
   ]
  },
  {
   "cell_type": "markdown",
   "metadata": {
    "id": "OV1dncHt_JVZ"
   },
   "source": [
    " Оцените параметр сдвига\n",
    "методом максимального правдоподобия \n",
    "* по первым 10 измерениям\n",
    "* по первым 100 измерениям\n",
    "* по всей выборке. \n",
    "\n",
    "Оценку произведите по сетке (т.е. возьмите набор\n",
    "точек с некоторым шагом и верните ту, на которой достигается\n",
    "максимум функции правдоподобия). Известно, что параметр сдвига принадлежит интервалу $[-1000, 1000].$ Выберите шаг равным 0.01. Интервал можете итеративно уменьшать, но не стоит делать его длину меньше 50.\n"
   ]
  },
  {
   "cell_type": "code",
   "execution_count": 61,
   "metadata": {
    "id": "HvtCqJwQ_Y8X"
   },
   "outputs": [],
   "source": [
    "# Записываем выборку из файла в список sample\n",
    "f = open('Cauchy.csv.xls', 'r')\n",
    "text = f.read()\n",
    "lines = text.split('\\n')\n",
    "sample = np.array([float(lines[n]) for n in range(len(lines) - 1)])"
   ]
  },
  {
   "cell_type": "code",
   "execution_count": 62,
   "metadata": {},
   "outputs": [],
   "source": [
    "# Логарифм функции правдоподобия (сумма логарифмов значений плотности на каждом значении из sample).\n",
    "def likehood(sample, loc_):\n",
    "    return np.sum(cauchy.logpdf(sample, loc=loc_, scale=1))"
   ]
  },
  {
   "cell_type": "code",
   "execution_count": 63,
   "metadata": {},
   "outputs": [],
   "source": [
    "# Ищем максимум логарифмической функции правдоподобия по loc_, перебирая его от -1000 до 1000 с шагом 0.01.\n",
    "# Выводится значение параметра сдвига, на котором достигается максимум.\n",
    "\n",
    "# ценка по всей выборке\n",
    "from scipy.stats import cauchy\n",
    "left_bound = -1000\n",
    "right_bound = 1000\n",
    "step = 0.01\n",
    "estimation = left_bound + step * (np.argmax(np.array([likehood(sample, loc_) \n",
    "                                               for loc_ in np.arange(left_bound, right_bound, step)])))"
   ]
  },
  {
   "cell_type": "code",
   "execution_count": 64,
   "metadata": {},
   "outputs": [
    {
     "name": "stdout",
     "output_type": "stream",
     "text": [
      "-208.03999999999996\n"
     ]
    }
   ],
   "source": [
    "print(estimation)"
   ]
  },
  {
   "cell_type": "code",
   "execution_count": 65,
   "metadata": {},
   "outputs": [
    {
     "name": "stdout",
     "output_type": "stream",
     "text": [
      "-208.14\n"
     ]
    }
   ],
   "source": [
    "# оценка по первым 10 измерениям\n",
    "sample = np.array(sample[:10])\n",
    "\n",
    "left_bound = -1000\n",
    "right_bound = 1000\n",
    "step = 0.01\n",
    "estimation = left_bound + step * (np.argmax(np.array([likehood(sample, loc_) \n",
    "                                               for loc_ in np.arange(left_bound, right_bound, step)])))\n",
    "print(estimation)\n"
   ]
  },
  {
   "cell_type": "code",
   "execution_count": 66,
   "metadata": {},
   "outputs": [
    {
     "name": "stdout",
     "output_type": "stream",
     "text": [
      "-208.14\n"
     ]
    }
   ],
   "source": [
    "#оценка по первым 100 измерениям\n",
    "sample = np.array(sample[:100])\n",
    "\n",
    "left_bound = -1000\n",
    "right_bound = 1000\n",
    "step = 0.01\n",
    "estimation = left_bound + step * (np.argmax(np.array([likehood(sample, loc_) \n",
    "                                               for loc_ in np.arange(left_bound, right_bound, step)])))\n",
    "print(estimation)"
   ]
  },
  {
   "cell_type": "markdown",
   "metadata": {},
   "source": [
    "### Вывод\n",
    "\n",
    "Мы оценили параметр сдвига в распределении Коши методом правдоподобия по всей выборке, по первым 10 измерениям и по первым 100 измерениям. В первом случае оценка параметра 𝑥0=−208.04, во втором — 𝑥0=-208.14, в третьем — 𝑥0=-208.14. Как мы видим, результаты хоть и различаются, но не намного."
   ]
  },
  {
   "cell_type": "markdown",
   "metadata": {
    "id": "bzK4vSm6CMcf"
   },
   "source": [
    "Сравните полученные результаты с `sps.cauchy.fit`"
   ]
  },
  {
   "cell_type": "markdown",
   "metadata": {
    "id": "OlA6SdwSC17C"
   },
   "source": [
    "## Задача 2\n",
    "В банкомате \"Тинькофф\" в Новом Корпусе МФТИ каждую минуту подсчитывается баланс по\n",
    "сравнению с началом дня (6 часов утра). В полночь работники банка\n",
    "измеряют две величины: $X^1$ – максимальное значение баланса за\n",
    "день, $X^2$ – значение баланса в полночь. Считается, что величина\n",
    "$X = X^1 - X^2$ имеет распределение Вейбулла с функцией распределения $F(x) = 1 - e^{-x^\\gamma} (x > 0),$ где $\\gamma > 0$ –\n",
    "параметр формы. В течение 10 лет каждый день банк проводил\n",
    "измерение величины $X,$ получив в результате выборку $X_1, \\ldots,\n",
    "X_{3652}.$ В файле Weibull.csv находятся соответствующие измерения."
   ]
  },
  {
   "cell_type": "code",
   "execution_count": 67,
   "metadata": {
    "id": "VD3ZwsBFDc4H"
   },
   "outputs": [],
   "source": [
    "sample = np.loadtxt(\"Weibull.csv\")"
   ]
  },
  {
   "cell_type": "markdown",
   "metadata": {
    "id": "nAkJW7cjDu3N"
   },
   "source": [
    "Проведем небольшой предварительный анализ. Итак, если наши данные распределены согласно распределению Вейбулла, то справедливы следующие рассуждения:\n",
    "$$\n",
    "\\begin{aligned} F(x) &=1-e^{-(x)^{\\gamma}} \\\\-\\ln (1-F(x)) &=x^{\\gamma} \\\\ \\underbrace{\\ln (-\\ln (1-F(x)))}_{y^{\\prime}} &=\\underbrace{\\gamma \\ln x}_{\\text {kx }^{\\prime}} \\end{aligned}\n",
    "$$\n",
    "А значит и\n",
    "$$\n",
    "\\underbrace{\\ln (-\\ln (1-\\hat{F}(x)))}_{y^{\\prime}} ≈\\underbrace{\\gamma \\ln x}_{\\text {kx }^{\\prime}}\n",
    "$$\n",
    "Подсчитайте эмпирическую функцию распределения и \n",
    "$$y\\prime = \\ln (-\\ln (1-\\hat{F}(x))) \\quad x' = ln x$$\n",
    " где $x$ – элементы исходной выборки. Постройте график (`plt.scatter`) выделив данные за первые четыре года красным цветом (`sample_2[:1461]`), остальные синим (`sample_2[1461:]`). Не забудьте про `alpha=0.05` и легенду. Такой график называется `Weibull plot` и является аналогом `qqplot` для распределения Вейбулла. \n"
   ]
  },
  {
   "cell_type": "code",
   "execution_count": 68,
   "metadata": {
    "id": "sIERIgdmJcm0"
   },
   "outputs": [],
   "source": [
    "from statsmodels.distributions.empirical_distribution import ECDF\n",
    "from scipy.stats import weibull_min\n",
    "\n",
    "# Логарифм функции правдоподобия (сумма логарифмов значений плотности на каждом значении из sample).\n",
    "# log_shape - десятичный логарифм параметра формы. Аргументтом logpdf является число 10 в степени log_shape.\n",
    "def likehood(sample, log_shape):\n",
    "    return np.sum(weibull_min.logpdf(sample, 10 ** log_shape))"
   ]
  },
  {
   "cell_type": "markdown",
   "metadata": {
    "id": "zKGPK8JwJ5N4"
   },
   "source": [
    "Сделайте вывод.\n",
    "\n",
    "**Вывод**"
   ]
  },
  {
   "cell_type": "markdown",
   "metadata": {
    "id": "UBOygE7gDt7A"
   },
   "source": [
    "Оцените параметр формы методом максимального правдоподобия \n",
    "* по\n",
    "первым 4 годам; \n",
    "* по всей выборке.\n",
    "Оценку произведите по сетке (в\n",
    "логарифмической шкале). Известно, что $\\log_{10}\\gamma \\in [-2, 2].$\n",
    "Выберите шаг равным $10^{-3}.$"
   ]
  },
  {
   "cell_type": "code",
   "execution_count": 69,
   "metadata": {},
   "outputs": [
    {
     "name": "stdout",
     "output_type": "stream",
     "text": [
      "0.01\n"
     ]
    }
   ],
   "source": [
    "# оценка по всей выборке\n",
    "\n",
    "# Ищем максимум логарифмической функции правдоподобия по shape в логарифмическом масштабе, перебирая его от -2 до 2 с шагом 0.001.\n",
    "# Выводится значение параметра формы, на котором достигается максимум.\n",
    "left_bound = -2\n",
    "right_bound = 2\n",
    "step = 0.001\n",
    "estimation = 10 ** (left_bound + step * (np.argmax(np.array([likehood(sample, log_shape) \n",
    "                                               for log_shape in np.arange(left_bound, right_bound, step)]))))\n",
    "print(estimation)"
   ]
  },
  {
   "cell_type": "code",
   "execution_count": 70,
   "metadata": {},
   "outputs": [
    {
     "name": "stdout",
     "output_type": "stream",
     "text": [
      "0.01\n"
     ]
    }
   ],
   "source": [
    "# оценка по первым четырем годам\n",
    "\n",
    "# Изменяем выборку.\n",
    "sample = sample[:(365 * 4)]\n",
    "\n",
    "left_bound = -2\n",
    "right_bound = 2\n",
    "step = 0.001\n",
    "estimation = 10 ** (left_bound + step * (np.argmax(np.array([likehood(sample, log_shape) \n",
    "                                               for log_shape in np.arange(left_bound, right_bound, step)]))))\n",
    "print(estimation)"
   ]
  },
  {
   "cell_type": "markdown",
   "metadata": {
    "id": "lSQssL3sQY-7"
   },
   "source": [
    "Сравните результаты с `sps.weibull.fit(sample_2, fscale=1, floc=0)`"
   ]
  },
  {
   "cell_type": "markdown",
   "metadata": {
    "id": "xwVgFpvTQydc"
   },
   "source": [
    "Постройте график $y = \\gamma \\cdot x$ для всех полученных $\\gamma$ (`plt.plot`) и `scatter plot` из предыдущего пункта ($y\\prime \\ x\\prime$). Хорошо ли линии соответствуют выборке? Как вы думаете, почему?\n",
    "\n",
    "\n",
    "# Вывод\n",
    "\n",
    "Мы оценили параметр формы в распределении Вейбулла методом правдоподобия по всей выборке и по ее первым 1460 значениям. В обоих случаях оценка параметра сдвига оказалась равной $\\gamma^* = 0.01$."
   ]
  },
  {
   "cell_type": "markdown",
   "metadata": {
    "id": "25Vh2cHzaGdp"
   },
   "source": [
    "## Задача 3"
   ]
  },
  {
   "cell_type": "markdown",
   "metadata": {
    "id": "Az5RayZ6bTd2"
   },
   "source": [
    "Сгенерируйте выборки $X_1, \\ldots, X_N$ из $\\mathit{N}(0, \\theta)$, $U(0, \\theta)$, $\\Gamma(1, \\theta)$ (**параметризация $k, \\theta$**), $\\theta = 3$ для всех распределений $(N = 1000).$ Для всех $n \\leq N$ посчитайте значения оценок (по выборке $X_1, \\ldots X_n$) методом моментов. Постройте график ошибки оценки от реального значения ($|\\hat\\theta - \\theta|_{l_1}$) относительно размера выборки."
   ]
  },
  {
   "cell_type": "code",
   "execution_count": 72,
   "metadata": {
    "id": "tbuZSbISYN4b"
   },
   "outputs": [],
   "source": [
    "# YOUR_CODE_GOES_HERE"
   ]
  },
  {
   "cell_type": "markdown",
   "metadata": {
    "id": "C51ez7fCjK-m"
   },
   "source": [
    "### Бутстреп\n",
    "\n",
    "Для реальных данных часто сложно подобрать распределение и нужную параметризацию относительно $\\theta$. Кроме того на практике сложно посчитать дисперсию оценки (для этого хотя бы нужно знать распределение, из которого пришла выборка). На помощь в таких случаях приходит **бутстреп**.\n",
    "\n",
    "Идея очень простая. Давайте возьмем нашу выборку размера $N$ и сгенерируем из нее еще $K$ выборок. Более формально для каждой бутстрепной выборки N раз будем выбирать элементы из исходной выборки с возвращением. Полученная таким образом выборка будет содержать $\\approx 63$% уникальных элементов, но это не страшно. Для всех $K$ выборок посчитаем оценку $\\hat\\theta$. Таким образом мы получим $K$ оценок параметра. Можно показать, что если размер бутстрепных выборок и исходной совпадают, то оценка дисперсии $s^2(\\hat\\theta)$, полученная из $K$ оценок, будет *хорошей*.\n",
    "\n",
    "Для каждого распределения из предыдущего пункта (Пожалуйста, не пишите цикл по распределениям. Сделайте три отдельные ячейки) для каждого $K$ из `[10] + [50] + list(range(100, 1001, 100))` сгенерируйте K бутстрепных выборок и посчитайте дисперсию бутстрепных оценок и посчитайте среднее по K выборкам. Размер бутстрепной выборки сделайте равным $K$, незабудьте уменьшить размер исходной выборки до $K$. Постройте график следующим образом: по оси $x$ отложите значения $K$, красной линией обозначьте среднее значение $\\hat\\theta$ бутстрепных выборок для каждого $K$. Посчитайте стандартное отклонение оценки для каждого $K$ и закрасьте интервал $\\mu(k) \\pm \\sigma(\\hat\\theta)$ (`plt.fillbetween`).\n",
    "\n"
   ]
  },
  {
   "cell_type": "code",
   "execution_count": 73,
   "metadata": {
    "id": "x80V3Nsyvv-X"
   },
   "outputs": [],
   "source": [
    "# YOUR_CODE_GOES_HERE"
   ]
  }
 ],
 "metadata": {
  "colab": {
   "collapsed_sections": [],
   "provenance": [],
   "toc_visible": true
  },
  "kernelspec": {
   "display_name": "Python 3 (ipykernel)",
   "language": "python",
   "name": "python3"
  },
  "language_info": {
   "codemirror_mode": {
    "name": "ipython",
    "version": 3
   },
   "file_extension": ".py",
   "mimetype": "text/x-python",
   "name": "python",
   "nbconvert_exporter": "python",
   "pygments_lexer": "ipython3",
   "version": "3.9.7"
  }
 },
 "nbformat": 4,
 "nbformat_minor": 1
}
